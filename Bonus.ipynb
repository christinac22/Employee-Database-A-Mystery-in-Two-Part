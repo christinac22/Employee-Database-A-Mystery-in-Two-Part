{
 "cells": [
  {
   "cell_type": "code",
   "execution_count": null,
   "id": "1755fd83",
   "metadata": {},
   "outputs": [],
   "source": [
    "#Reference: 10-Adv-Data..Act 4\n",
    "# Pandas\n",
    "import pandas as pd\n",
    "\n",
    "# SQL Alchemy\n",
    "from sqlalchemy import create_engine"
   ]
  },
  {
   "cell_type": "code",
   "execution_count": null,
   "id": "ad9ccc7f",
   "metadata": {},
   "outputs": [],
   "source": [
    "# Create Engine for emplpyee data\n",
    "engine = create_engine('postgresql://localhost:5432/SQL-challenge')\n",
    "connection = engine.connect()"
   ]
  }
 ],
 "metadata": {
  "kernelspec": {
   "display_name": "Python 3 (ipykernel)",
   "language": "python",
   "name": "python3"
  },
  "language_info": {
   "codemirror_mode": {
    "name": "ipython",
    "version": 3
   },
   "file_extension": ".py",
   "mimetype": "text/x-python",
   "name": "python",
   "nbconvert_exporter": "python",
   "pygments_lexer": "ipython3",
   "version": "3.9.7"
  }
 },
 "nbformat": 4,
 "nbformat_minor": 5
}
